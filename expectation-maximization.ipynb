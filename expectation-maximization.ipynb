{
 "cells": [
  {
   "cell_type": "code",
   "execution_count": 1,
   "id": "e3934266",
   "metadata": {},
   "outputs": [],
   "source": [
    "import numpy as np"
   ]
  },
  {
   "cell_type": "code",
   "execution_count": 2,
   "id": "eb2cf207",
   "metadata": {},
   "outputs": [
    {
     "name": "stdout",
     "output_type": "stream",
     "text": [
      "Iteration =  0 \tLog-Likelihood =  -0.9580854082157914 \tMistakes =  175\n",
      "Iteration =  1 \tLog-Likelihood =  -0.49591639407753635 \tMistakes =  56\n",
      "Iteration =  2 \tLog-Likelihood =  -0.40822081705839114 \tMistakes =  43\n",
      "Iteration =  4 \tLog-Likelihood =  -0.3646149825001877 \tMistakes =  42\n",
      "Iteration =  8 \tLog-Likelihood =  -0.34750061620878253 \tMistakes =  44\n",
      "Iteration =  16 \tLog-Likelihood =  -0.33461704895854844 \tMistakes =  40\n",
      "Iteration =  32 \tLog-Likelihood =  -0.3225814031674978 \tMistakes =  37\n",
      "Iteration =  64 \tLog-Likelihood =  -0.3148266983628557 \tMistakes =  37\n",
      "Iteration =  128 \tLog-Likelihood =  -0.3111558472151897 \tMistakes =  36\n",
      "Iteration =  256 \tLog-Likelihood =  -0.3101613534740759 \tMistakes =  36\n"
     ]
    }
   ],
   "source": [
    "# Read X values\n",
    "X = []\n",
    "with open('X.txt', 'r') as f:\n",
    "    lines = f.readlines()\n",
    "    for line in lines:\n",
    "        X.append([int(val) for val in line.replace('\\n','').split(' ')[:-1]])\n",
    "\n",
    "X = np.array(X)\n",
    "\n",
    "# Read Y values\n",
    "Y = []\n",
    "with open('Y.txt', 'r') as f:\n",
    "    lines = f.readlines()\n",
    "    Y = [int(line.replace('\\n','')) for line in lines]\n",
    "\n",
    "Y = np.array(Y)\n",
    "\n",
    "# Function to compute log likelihood\n",
    "def LogLikelihood(X,Y,P,T,N):\n",
    "    likelihood = 0.0 \n",
    "    for t in range(0, T):\n",
    "        xt = X[t]\n",
    "        yt = Y[t]\n",
    "        PY1GivenX = 1 - np.product(np.power(1-P, xt))\n",
    "        likelihood += np.log(np.power(PY1GivenX, yt)*np.power(1-PY1GivenX, 1-yt))\n",
    "        \n",
    "    return likelihood/T\n",
    "        \n",
    "# Function to do an EM update\n",
    "def EMUpdate(X,Y,P,T,N):\n",
    "    newP = []\n",
    "    for i in range(0,N):\n",
    "        total = 0.0\n",
    "        for t in range(0,T):\n",
    "            total += (Y[t]*X[t][i]*P[i])/(1-np.product(np.power(1-P,X[t])))\n",
    "            \n",
    "        newP.append(total/np.sum(X, axis=0)[i])\n",
    "    \n",
    "    newP = np.array(newP)\n",
    "    return newP\n",
    "    \n",
    "\n",
    "# Initialize parameters\n",
    "P = np.array([0.05]*23)\n",
    "T = len(X)\n",
    "N = len(X[0])\n",
    "iterations = 256\n",
    "\n",
    "for itr in range(0, iterations+1):\n",
    "    likelihood = LogLikelihood(X,Y,P,T,N)\n",
    "    mistakes = 0\n",
    "    \n",
    "    for t in range(0,T):\n",
    "        xt = X[t]\n",
    "        yt = Y[t]\n",
    "        PY1GivenX = 1 - np.product(np.power(1-P, xt))\n",
    "        if((yt == 0 and PY1GivenX >= 0.5) or (yt == 1 and PY1GivenX < 0.5)):\n",
    "            mistakes += 1\n",
    "         \n",
    "    if(itr==0 or itr==1 or np.log2(itr) == int(np.log2(itr))):\n",
    "        print(\"Iteration = \", itr, \"\\tLog-Likelihood = \", likelihood, \"\\tMistakes = \", mistakes)\n",
    "            \n",
    "    P = EMUpdate(X,Y,P,T,N)"
   ]
  },
  {
   "cell_type": "code",
   "execution_count": null,
   "id": "c1fe6281",
   "metadata": {},
   "outputs": [],
   "source": []
  }
 ],
 "metadata": {
  "kernelspec": {
   "display_name": "Python 3 (ipykernel)",
   "language": "python",
   "name": "python3"
  },
  "language_info": {
   "codemirror_mode": {
    "name": "ipython",
    "version": 3
   },
   "file_extension": ".py",
   "mimetype": "text/x-python",
   "name": "python",
   "nbconvert_exporter": "python",
   "pygments_lexer": "ipython3",
   "version": "3.9.12"
  }
 },
 "nbformat": 4,
 "nbformat_minor": 5
}
